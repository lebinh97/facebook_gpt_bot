{
 "cells": [
  {
   "cell_type": "code",
   "execution_count": 1,
   "id": "b8834e16-da50-47f6-b325-076a58436666",
   "metadata": {
    "tags": []
   },
   "outputs": [],
   "source": [
    "import urllib.parse\n",
    "import requests\n",
    "import json"
   ]
  },
  {
   "cell_type": "code",
   "execution_count": 4,
   "id": "30f250c3-5700-4c5f-8f48-a5cdb1c447d1",
   "metadata": {
    "tags": []
   },
   "outputs": [],
   "source": [
    "# # Your Facebook App credentials\n",
    "app_id = '545346463388872'\n",
    "app_secret = 'd7b3b8d65b41b7993ba54265c4955d62'\n",
    "# redirect_uri = 'https://www.loreal.com/vi-vn/vietnam/'\n",
    "# scope = 'pages_messaging,pages_messaging_subscriptions,pages_manage_metadata'\n",
    "\n",
    "# # Construct the Facebook OAuth URL\n",
    "# params = {\n",
    "#     'client_id': app_id,\n",
    "#     'redirect_uri': redirect_uri,\n",
    "#     'scope': scope,\n",
    "#     'response_type': 'code'\n",
    "# }\n",
    "\n",
    "# oauth_url = 'https://www.facebook.com/v10.0/dialog/oauth?' + urllib.parse.urlencode(params)\n",
    "\n",
    "# print(oauth_url)"
   ]
  },
  {
   "cell_type": "code",
   "execution_count": 3,
   "id": "2d4406f6-bec7-4861-acb2-9370a95add76",
   "metadata": {
    "tags": []
   },
   "outputs": [],
   "source": [
    "# # Your Facebook App credentials\n",
    "\n",
    "# redirect_uri = 'https://www.loreal.com/vi-vn/vietnam/'\n",
    "# code = 'AQAcsfoSAOw18o5xCr5h1hnzwFv3cumzWeutZWyvcKA3Ep9ilCL7BzaP4tWLvoWlXME_QMsiv6CqepBpOHPfsYFoxoW16_Ef_psd7xiwMCr8kMJcPCwqKHRS7KsYzlqoTlFFJ-QbI2AEGzcacb0_1ly8hgrfeRQPY6bRLjeVrJgz28IMZkgDLbzxvSC0vO2SsRzKd_zTyp_EH33P-WayJvinOOnNpQ3IFz7Pwun0TRAhV938igQuWTYEj6Ul2HonHABPwKv9aOw2ZP4LSTl417uC7cLmz1fmShlfsiQje08HwIJ7bTdKUcGojiT_zN3G-fyZ1IfgkzZm0p3zk7_ymMqwTzHBPiCGOIg4DzwI_naSyMXaJnAUSnpcKkIpu-XytVKDH9HM1NCpnGgRLBwuZrFkFBBWbzfhjarVMGW1_les2Q#_=_'\n",
    "\n",
    "# # Construct the URL to exchange the code for an access token\n",
    "# token_url = (\n",
    "#     f\"https://graph.facebook.com/v10.0/oauth/access_token?\"\n",
    "#     f\"client_id={app_id}&\"\n",
    "#     f\"redirect_uri={redirect_uri}&\"\n",
    "#     f\"client_secret={app_secret}&\"\n",
    "#     f\"code={code}\"\n",
    "# )\n",
    "\n",
    "# # Make the request to get the access token\n",
    "# response = requests.get(token_url)\n",
    "# access_token_info = response.json()"
   ]
  },
  {
   "cell_type": "code",
   "execution_count": 5,
   "id": "6f852509-1eae-43a2-a75d-f517b928cda1",
   "metadata": {
    "tags": []
   },
   "outputs": [
    {
     "data": {
      "text/plain": [
       "'EAAHvZCV461MgBOyxRm6GWZCy7FsUKwLVQvCjv0UQ9ZAzBHRZB0SfbRdCWvBc3Kjoyoj0igTBxK7A19sgboVMdWHkmrVL7DtemU2j9KUIQD7j6EaZC7UQqJS2fGGBV3pZAMeL7Bq2Bup5HG8tkrOePAK1sU9xZBvQH8ZArgr69bk98fVBgZCNNaFMlP1qECXzZBzxQEW2tDPr7ZA7vt1xYRVw4LeronXy0THWGmnZAAaSNZB6VqZAp1ZCanRKJLG'"
      ]
     },
     "execution_count": 5,
     "metadata": {},
     "output_type": "execute_result"
    }
   ],
   "source": [
    "# Facebook bot/access_token_info.json\n",
    "\n",
    "with open('C:/Users/admin/Facebook bot/access_token_info.json', 'r') as file:\n",
    "    access_token_info = json.load(file)\n",
    "    \n",
    "access_token = access_token_info['access_token']\n",
    "access_token"
   ]
  },
  {
   "cell_type": "code",
   "execution_count": 6,
   "id": "a8f6d5e9-a697-45f3-b44a-be13756f3bde",
   "metadata": {
    "tags": []
   },
   "outputs": [
    {
     "data": {
      "text/plain": [
       "{'access_token': 'EAAHvZCV461MgBO50RSqQtnYz7ANZCBuYGfZAVnU66zyg2QlD0b7tjDvrZAKNy3JuffwNh91qk0CAblJU09hjtcIoiqbdomiZAfcwAmYARs1mH2QhgSrftxilkFSCzVmpgUxRNBpSvXE7wYLNg26fHHzJoEpWRIZC3hGH2oZCqhNf8jBcwkKWVUr22lp',\n",
       " 'token_type': 'bearer'}"
      ]
     },
     "execution_count": 6,
     "metadata": {},
     "output_type": "execute_result"
    }
   ],
   "source": [
    "long_lived_token = access_token\n",
    "\n",
    "def extend_long_lived_token(long_lived_token, app_id, app_secret):\n",
    "    url = 'https://graph.facebook.com/v13.0/oauth/access_token'\n",
    "    params = {\n",
    "        'grant_type': 'fb_exchange_token',\n",
    "        'client_id': app_id,\n",
    "        'client_secret': app_secret,\n",
    "        'fb_exchange_token': long_lived_token\n",
    "    }\n",
    "    response = requests.get(url, params=params)\n",
    "    return response.json()\n",
    "\n",
    "long_lived_token_info = extend_long_lived_token(long_lived_token, app_id, app_secret)\n",
    "long_lived_token_info"
   ]
  },
  {
   "cell_type": "code",
   "execution_count": 7,
   "id": "b472e029-3af0-441c-9ac6-7d168a5f6f31",
   "metadata": {
    "tags": []
   },
   "outputs": [],
   "source": [
    "with open('access_token_info.json', 'w') as file:\n",
    "    json.dump(access_token_info, file, indent=4)"
   ]
  },
  {
   "cell_type": "markdown",
   "id": "84ed6e88-cb09-43dc-960d-536ccfa3434d",
   "metadata": {},
   "source": [
    "## 2. Get page authorization"
   ]
  },
  {
   "cell_type": "code",
   "execution_count": 8,
   "id": "ad5b727d-3c9c-401e-aa91-676975909b23",
   "metadata": {
    "tags": []
   },
   "outputs": [
    {
     "data": {
      "text/plain": [
       "{'access_token': 'EAAHvZCV461MgBO6UGK5PSebQYvrRQZAmo9ZBe55p5qeLo0UoKoNbR1gRSmuVABms1o8sTmzU9giQv7T1fyQBQan7BVp299VYc7Cdz5ZAePYJvaAfqjgolEbJznatsh4mrTIi8BgfJgn7tqIqmRJbsXyrZBkcDJfJJLQOHGIcacJZAqe7QGLn8riNEMsc4WqaCw',\n",
       " 'category': 'Chương trình TV',\n",
       " 'category_list': [{'id': '1400', 'name': 'Chương trình TV'}],\n",
       " 'name': 'Netflix otp',\n",
       " 'id': '345243362013764',\n",
       " 'tasks': ['ADVERTISE',\n",
       "  'ANALYZE',\n",
       "  'CREATE_CONTENT',\n",
       "  'MESSAGING',\n",
       "  'MODERATE',\n",
       "  'MANAGE']}"
      ]
     },
     "execution_count": 8,
     "metadata": {},
     "output_type": "execute_result"
    }
   ],
   "source": [
    "# Construct the URL to get the list of pages\n",
    "url = f'https://graph.facebook.com/v10.0/me/accounts?access_token={access_token}'\n",
    "\n",
    "# Make the request\n",
    "response = requests.get(url)\n",
    "data = response.json()['data']\n",
    "filtered_data = [item for item in data if item['name'] == 'Netflix otp'][0]\n",
    "page_access_token = filtered_data['access_token']\n",
    "page_id = filtered_data['id']\n",
    "filtered_data"
   ]
  },
  {
   "cell_type": "markdown",
   "id": "48e97875-a5b3-4648-8463-2cab1f7ca68a",
   "metadata": {},
   "source": [
    "## 3. Get all message"
   ]
  },
  {
   "cell_type": "code",
   "execution_count": 8,
   "id": "5f1bdc74-9d1b-423e-a0f9-e49684169b42",
   "metadata": {
    "tags": []
   },
   "outputs": [],
   "source": [
    "# def get_messages(page_id, access_token):\n",
    "#     url = f'https://graph.facebook.com/v13.0/{page_id}/conversations'\n",
    "#     params = {\n",
    "#         'access_token': access_token\n",
    "#     }\n",
    "#     response = requests.get(url, params=params)\n",
    "\n",
    "# def get_conversation_threads(conversation_id, access_token):\n",
    "#     url = f'https://graph.facebook.com/v20.0/{conversation_id}'\n",
    "#     params = {\n",
    "#         'fields': 'participants, messages',  # Request specific fields\n",
    "#         'access_token': access_token\n",
    "#     }\n",
    "#     response = requests.get(url, params=params)\n",
    "    \n",
    "# def get_message_details(message_id, access_token):\n",
    "#     url = f'https://graph.facebook.com/v13.0/{message_id}'\n",
    "#     params = {\n",
    "#         'fields': 'message,from,to,created_time',  # Request specific fields\n",
    "#         'access_token': access_token\n",
    "#     }\n",
    "#     response = requests.get(url, params=params)"
   ]
  },
  {
   "cell_type": "code",
   "execution_count": 10,
   "id": "350769d3-75d2-47e9-82e1-750c3072d9e6",
   "metadata": {
    "tags": []
   },
   "outputs": [
    {
     "data": {
      "text/plain": [
       "[{'message': 'Alo',\n",
       "  'sender_id': '7997803793592221',\n",
       "  'sender_name': 'Hoa Phương',\n",
       "  'recipient': 'Netflix otp',\n",
       "  'recipient_id': '345243362013764',\n",
       "  'created_time': '2024-07-30T16:10:46+0000'},\n",
       " {'message': 'Alo',\n",
       "  'sender_id': '26499628832961401',\n",
       "  'sender_name': 'Võ Thị Kim Thơ',\n",
       "  'recipient': 'Netflix otp',\n",
       "  'recipient_id': '345243362013764',\n",
       "  'created_time': '2024-07-30T16:09:58+0000'},\n",
       " {'message': 'chao ban',\n",
       "  'sender_id': '8176163065778443',\n",
       "  'sender_name': 'Bình Như Gia Lê',\n",
       "  'recipient': 'Netflix otp',\n",
       "  'recipient_id': '345243362013764',\n",
       "  'created_time': '2024-07-28T10:23:06+0000'},\n",
       " {'message': 'hello',\n",
       "  'sender_id': '345243362013764',\n",
       "  'sender_name': 'Netflix otp',\n",
       "  'recipient': 'Bình Như Gia Lê',\n",
       "  'recipient_id': '8176163065778443',\n",
       "  'created_time': '2024-07-28T10:22:05+0000'},\n",
       " {'message': 'binh dep trai',\n",
       "  'sender_id': '8176163065778443',\n",
       "  'sender_name': 'Bình Như Gia Lê',\n",
       "  'recipient': 'Netflix otp',\n",
       "  'recipient_id': '345243362013764',\n",
       "  'created_time': '2024-07-28T10:21:59+0000'}]"
      ]
     },
     "execution_count": 10,
     "metadata": {},
     "output_type": "execute_result"
    }
   ],
   "source": [
    "import requests\n",
    "\n",
    "def get_all_messages(page_id, access_token):\n",
    "    def get_messages(page_id, access_token):\n",
    "        url = f'https://graph.facebook.com/v13.0/{page_id}/conversations'\n",
    "        params = {\n",
    "            'access_token': access_token\n",
    "        }\n",
    "        response = requests.get(url, params=params)\n",
    "        return response.json() if response.status_code == 200 else response.json()\n",
    "\n",
    "    def get_conversation_threads(conversation_id, access_token):\n",
    "        url = f'https://graph.facebook.com/v20.0/{conversation_id}'\n",
    "        params = {\n",
    "            'fields': 'participants,messages{message,from,to,created_time}',  # Request specific fields\n",
    "            'access_token': access_token\n",
    "        }\n",
    "        response = requests.get(url, params=params)\n",
    "        return response.json() if response.status_code == 200 else response.json()\n",
    "\n",
    "    # Fetch conversations\n",
    "    conversations = get_messages(page_id, access_token)\n",
    "    all_messages = []\n",
    "\n",
    "    # Process each conversation\n",
    "    for conversation in conversations.get('data', []):\n",
    "        conversation_id = conversation['id']\n",
    "        threads = get_conversation_threads(conversation_id, access_token)\n",
    "        \n",
    "        # Extract participants\n",
    "        participants = {p['id']: p['name'] for p in threads.get('participants', {}).get('data', [])}\n",
    "\n",
    "        # Extract messages\n",
    "        messages = threads.get('messages', {}).get('data', [])\n",
    "        for message in messages:\n",
    "            message_content = message.get('message', '')\n",
    "            created_time = message.get('created_time', '')\n",
    "            from_user_id = message.get('from', {}).get('id', '')\n",
    "            from_user_name = participants.get(from_user_id, '')\n",
    "\n",
    "            # Ensure from_user_id and from_user_name are defined\n",
    "            if from_user_id and from_user_name:\n",
    "                # Find 'to' details\n",
    "                to_users = threads.get('participants', {}).get('data', [])\n",
    "                for recipient in to_users:\n",
    "                    if recipient['id'] != from_user_id:  # Exclude sender\n",
    "                        all_messages.append({\n",
    "                            'message': message_content,\n",
    "                            'sender_id': from_user_id,\n",
    "                            'sender_name': from_user_name,\n",
    "                            'recipient': recipient['name'],\n",
    "                            'recipient_id': recipient['id'],\n",
    "                            'created_time': created_time\n",
    "                        })\n",
    "    \n",
    "    return all_messages\n",
    "\n",
    "# Example usage\n",
    "messages = get_all_messages(page_id, page_access_token)\n",
    "messages[0:5]"
   ]
  },
  {
   "cell_type": "markdown",
   "id": "def42155-f4cd-4451-a060-09093d7fb94b",
   "metadata": {},
   "source": [
    "## 4. send message"
   ]
  },
  {
   "cell_type": "code",
   "execution_count": 10,
   "id": "b3def485-a330-4a0a-a43e-c206b3bebfa5",
   "metadata": {
    "tags": []
   },
   "outputs": [],
   "source": [
    "def send_message(page_access_token, recipient_id, message_text):\n",
    "    url = 'https://graph.facebook.com/v13.0/me/messages'\n",
    "    params = {\n",
    "        'access_token': page_access_token\n",
    "    }\n",
    "    payload = {\n",
    "        'recipient': {\n",
    "            'id': recipient_id\n",
    "        },\n",
    "        'message': {\n",
    "            'text': message_text\n",
    "        }\n",
    "    }\n",
    "    response = requests.post(url, params=params, json=payload)\n",
    "    \n",
    "    if response.status_code == 200:\n",
    "        return response.json()\n",
    "    else:\n",
    "        return response.json()\n",
    "\n",
    "# Example usage\n",
    "# result = send_message(page_access_token, recipient_id, message_text)\n",
    "# print(result)"
   ]
  },
  {
   "cell_type": "markdown",
   "id": "0a8f477c-dbd5-4d0d-a7c7-3feedca02967",
   "metadata": {},
   "source": [
    "## 5. run while loop to check for msg"
   ]
  },
  {
   "cell_type": "code",
   "execution_count": null,
   "id": "17436afc-fa08-411e-87d6-e8f90341654c",
   "metadata": {
    "tags": []
   },
   "outputs": [
    {
     "name": "stdout",
     "output_type": "stream",
     "text": [
      "{'message': 'Thảo My có xinh hong?', 'sender_id': '7526496770788152', 'sender_name': 'Thảo My', 'recipient': 'Netflix otp', 'recipient_id': '345243362013764', 'created_time': '2024-07-25T15:53:36+0000'}\n",
      "{'message': 'Nụ cười toả sáng chứ hỏng xinh hỏ ☹️', 'sender_id': '7526496770788152', 'sender_name': 'Thảo My', 'recipient': 'Netflix otp', 'recipient_id': '345243362013764', 'created_time': '2024-07-25T15:54:10+0000'}\n",
      "{'message': 'Cơ mà có xinh hong 😒', 'sender_id': '7526496770788152', 'sender_name': 'Thảo My', 'recipient': 'Netflix otp', 'recipient_id': '345243362013764', 'created_time': '2024-07-25T15:54:29+0000'}\n",
      "{'message': 'Oẹ', 'sender_id': '7526496770788152', 'sender_name': 'Thảo My', 'recipient': 'Netflix otp', 'recipient_id': '345243362013764', 'created_time': '2024-07-25T15:55:12+0000'}\n",
      "{'message': 'Hoi chán ời pipi', 'sender_id': '7526496770788152', 'sender_name': 'Thảo My', 'recipient': 'Netflix otp', 'recipient_id': '345243362013764', 'created_time': '2024-07-25T15:58:34+0000'}\n",
      "{'message': 'Nhưng mà Thảo My hong vui', 'sender_id': '7526496770788152', 'sender_name': 'Thảo My', 'recipient': 'Netflix otp', 'recipient_id': '345243362013764', 'created_time': '2024-07-25T15:58:54+0000'}\n"
     ]
    }
   ],
   "source": [
    "import time\n",
    "import random\n",
    "\n",
    "# Define the sender ID to exclude\n",
    "excluded_sender_id = '345243362013764'\n",
    "# start with 8\n",
    "recipient_id = '7997803793592221'\n",
    "# message_text = 'Wat suppp!'\n",
    "message_lst = [\n",
    "    \"Hoa Phương, bạn thật xinh đẹp!\",\n",
    "    \"Nụ cười của Hoa Phương tỏa sáng như ánh nắng ban mai.\",\n",
    "    \"Sự dịu dàng của Hoa Phương khiến mọi người xung quanh cảm thấy ấm áp.\",\n",
    "    \"Hoa Phương có đôi mắt long lanh như những vì sao.\",\n",
    "    \"Mỗi khi Hoa Phương cười, cả thế giới như bừng sáng.\",\n",
    "    \"Hoa Phương có vẻ đẹp tự nhiên và cuốn hút.\",\n",
    "    \"Nụ cười của Hoa Phương làm tan chảy mọi trái tim.\",\n",
    "    \"Hoa Phương luôn tỏa sáng với vẻ đẹp dịu dàng và thanh thoát.\",\n",
    "    \"Hoa Phương có làn da mịn màng như lụa.\",\n",
    "    \"Sự duyên dáng của Hoa Phương khiến ai cũng phải ngước nhìn.\",\n",
    "    \"Hoa Phương có nụ cười rạng rỡ như ánh mặt trời.\",\n",
    "    \"Vẻ đẹp của Hoa Phương thật sự là một món quà quý giá.\",\n",
    "    \"Hoa Phương luôn mang đến cảm giác bình yên với sự dịu dàng của mình.\",\n",
    "    \"Nụ cười của Hoa Phương là nguồn năng lượng tích cực cho mọi người.\",\n",
    "    \"Hoa Phương có vẻ đẹp thanh khiết và tinh tế.\",\n",
    "    \"Hoa Phương luôn tỏa sáng với sự tự tin và quyến rũ.\",\n",
    "    \"Nụ cười của Hoa Phương làm cho ngày mới trở nên tươi đẹp hơn.\",\n",
    "    \"Hoa Phương có vẻ đẹp tự nhiên và thuần khiết.\",\n",
    "    \"Sự dịu dàng của Hoa Phương khiến ai cũng cảm thấy dễ chịu.\",\n",
    "    \"Hoa Phương có đôi mắt biết nói, đầy cảm xúc.\"\n",
    "]\n",
    "\n",
    "\n",
    "# Initial fetch of messages\n",
    "current_messages = get_all_messages(page_id, page_access_token)\n",
    "previous_messages = current_messages\n",
    "\n",
    "while True:\n",
    "    # Fetch current messages\n",
    "    current_messages = get_all_messages(page_id, page_access_token)\n",
    "    \n",
    "    # Find new messages excluding those from the specific sender\n",
    "    new_messages = [msg for msg in current_messages if msg not in previous_messages and msg['sender_id'] != excluded_sender_id]\n",
    "    \n",
    "    if new_messages:\n",
    "        # Choose a random message from the list\n",
    "        random_message = random.choice(message_lst)\n",
    "        \n",
    "        # Send the random message\n",
    "        send_message(page_access_token, recipient_id, random_message)\n",
    "        \n",
    "        print(new_messages[0])\n",
    "    \n",
    "    # Update the list of previously fetched messages\n",
    "    previous_messages = current_messages\n",
    "    \n",
    "    # Wait for 2 seconds before checking again\n",
    "    time.sleep(0.5)"
   ]
  },
  {
   "cell_type": "code",
   "execution_count": null,
   "id": "c0206aaa-564d-45c9-9ca7-1348929f88e1",
   "metadata": {},
   "outputs": [],
   "source": []
  }
 ],
 "metadata": {
  "kernelspec": {
   "display_name": "Python 3 (ipykernel)",
   "language": "python",
   "name": "python3"
  },
  "language_info": {
   "codemirror_mode": {
    "name": "ipython",
    "version": 3
   },
   "file_extension": ".py",
   "mimetype": "text/x-python",
   "name": "python",
   "nbconvert_exporter": "python",
   "pygments_lexer": "ipython3",
   "version": "3.11.5"
  }
 },
 "nbformat": 4,
 "nbformat_minor": 5
}
