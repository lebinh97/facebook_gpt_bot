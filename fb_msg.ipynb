{
 "cells": [
  {
   "cell_type": "markdown",
   "id": "4686f550",
   "metadata": {},
   "source": [
    "Note\n",
    "1. You run the flask app, check for port and verify_token (current port = 6000 and verify token = 'abc')\n",
    "2. You run ngrok, you run command ngrok http 6000 to exposed your flask app to port 6000\n",
    "3. You go to fb graph api => Ứng Dụng => APP: API Testing => Webhooks (left hand side) => Edit subscription of PAGE!!!, not user\n",
    "4. On ngrok app, copy the forwarding address, then Pass it to the callback url, along with the verify token = 'abc'\n",
    "5. Test the webhooks to see returned data (User => birthday)"
   ]
  },
  {
   "cell_type": "code",
   "execution_count": 13,
   "id": "b8834e16-da50-47f6-b325-076a58436666",
   "metadata": {
    "tags": []
   },
   "outputs": [],
   "source": [
    "import urllib.parse\n",
    "import requests\n",
    "import json"
   ]
  },
  {
   "cell_type": "code",
   "execution_count": 14,
   "id": "30f250c3-5700-4c5f-8f48-a5cdb1c447d1",
   "metadata": {
    "tags": []
   },
   "outputs": [],
   "source": [
    "import json\n",
    "\n",
    "# Đường dẫn tới tệp JSON\n",
    "config_file = 'config.json'\n",
    "\n",
    "# Đọc tệp JSON\n",
    "with open(config_file, 'r') as file:\n",
    "    config = json.load(file)\n",
    "\n",
    "# Lấy thông tin từ tệp JSON\n",
    "app_id = config.get('app_id')\n",
    "app_secret = config.get('app_secret')"
   ]
  },
  {
   "cell_type": "code",
   "execution_count": 3,
   "id": "2d4406f6-bec7-4861-acb2-9370a95add76",
   "metadata": {
    "tags": []
   },
   "outputs": [],
   "source": [
    "# # Your Facebook App credentials\n",
    "\n",
    "# redirect_uri = 'https://www.loreal.com/vi-vn/vietnam/'\n",
    "# code = 'AQAcsfoSAOw18o5xCr5h1hnzwFv3cumzWeutZWyvcKA3Ep9ilCL7BzaP4tWLvoWlXME_QMsiv6CqepBpOHPfsYFoxoW16_Ef_psd7xiwMCr8kMJcPCwqKHRS7KsYzlqoTlFFJ-QbI2AEGzcacb0_1ly8hgrfeRQPY6bRLjeVrJgz28IMZkgDLbzxvSC0vO2SsRzKd_zTyp_EH33P-WayJvinOOnNpQ3IFz7Pwun0TRAhV938igQuWTYEj6Ul2HonHABPwKv9aOw2ZP4LSTl417uC7cLmz1fmShlfsiQje08HwIJ7bTdKUcGojiT_zN3G-fyZ1IfgkzZm0p3zk7_ymMqwTzHBPiCGOIg4DzwI_naSyMXaJnAUSnpcKkIpu-XytVKDH9HM1NCpnGgRLBwuZrFkFBBWbzfhjarVMGW1_les2Q#_=_'\n",
    "\n",
    "# # Construct the URL to exchange the code for an access token\n",
    "# token_url = (\n",
    "#     f\"https://graph.facebook.com/v10.0/oauth/access_token?\"\n",
    "#     f\"client_id={app_id}&\"\n",
    "#     f\"redirect_uri={redirect_uri}&\"\n",
    "#     f\"client_secret={app_secret}&\"\n",
    "#     f\"code={code}\"\n",
    "# )\n",
    "\n",
    "# # Make the request to get the access token\n",
    "# response = requests.get(token_url)\n",
    "# access_token_info = response.json()"
   ]
  },
  {
   "cell_type": "code",
   "execution_count": 15,
   "id": "6f852509-1eae-43a2-a75d-f517b928cda1",
   "metadata": {
    "tags": []
   },
   "outputs": [],
   "source": [
    "# Facebook bot/access_token_info.json\n",
    "\n",
    "with open('C:/Users/admin/Facebook bot/access_token_info.json', 'r') as file:\n",
    "    access_token_info = json.load(file)\n",
    "    \n",
    "access_token = access_token_info['access_token']"
   ]
  },
  {
   "cell_type": "code",
   "execution_count": 16,
   "id": "a8f6d5e9-a697-45f3-b44a-be13756f3bde",
   "metadata": {
    "tags": []
   },
   "outputs": [
    {
     "data": {
      "text/plain": [
       "{'access_token': 'EAAHvZCV461MgBOywEWdKobGZCRr9TC1otW7ZC37VSZBLdE0oIf8n2vYXU1moirg0jWpfl48AuYT8gxslYxWxiMsHnjEpZAYagwqYRhGw7d6kWEg4BOWwtalEc1SZBvE1sALP78D8ArjL3QIeeEm7v3tE5ZAOCxHnXbIqQi6ahZA2WV7vOWt5LqsxqdZCv',\n",
       " 'token_type': 'bearer'}"
      ]
     },
     "execution_count": 16,
     "metadata": {},
     "output_type": "execute_result"
    }
   ],
   "source": [
    "long_lived_token = access_token\n",
    "\n",
    "def extend_long_lived_token(long_lived_token, app_id, app_secret):\n",
    "    url = 'https://graph.facebook.com/v13.0/oauth/access_token'\n",
    "    params = {\n",
    "        'grant_type': 'fb_exchange_token',\n",
    "        'client_id': app_id,\n",
    "        'client_secret': app_secret,\n",
    "        'fb_exchange_token': long_lived_token\n",
    "    }\n",
    "    response = requests.get(url, params=params)\n",
    "    return response.json()\n",
    "\n",
    "long_lived_token_info = extend_long_lived_token(long_lived_token, app_id, app_secret)\n",
    "long_lived_token_info"
   ]
  },
  {
   "cell_type": "code",
   "execution_count": 17,
   "id": "b472e029-3af0-441c-9ac6-7d168a5f6f31",
   "metadata": {
    "tags": []
   },
   "outputs": [],
   "source": [
    "with open('access_token_info.json', 'w') as file:\n",
    "    json.dump(long_lived_token_info, file, indent=4)"
   ]
  },
  {
   "cell_type": "markdown",
   "id": "84ed6e88-cb09-43dc-960d-536ccfa3434d",
   "metadata": {},
   "source": [
    "## 2. Get page authorization"
   ]
  },
  {
   "cell_type": "code",
   "execution_count": 6,
   "id": "ad5b727d-3c9c-401e-aa91-676975909b23",
   "metadata": {
    "tags": []
   },
   "outputs": [
    {
     "data": {
      "text/plain": [
       "{'access_token': 'EAAHvZCV461MgBO49KCvBZCZCDDpVU5nQ2sAzfRbOAMJMNheZCutAUTA9KZA4wmZCAVrW41vy59nt761HgpiIawf18JLFKuOudJztqdj1bcloSOZAiqRDZAmOc0XhGLRcZB6i6hTX1cTFxIwASnOQfzoT8CGLsvAFzkC5iI7Ei2isT8osDht7M5WZBUrh4gLmCpIqxT',\n",
       " 'category': 'Chương trình TV',\n",
       " 'category_list': [{'id': '1400', 'name': 'Chương trình TV'}],\n",
       " 'name': 'Netflix otp',\n",
       " 'id': '345243362013764',\n",
       " 'tasks': ['ADVERTISE',\n",
       "  'ANALYZE',\n",
       "  'CREATE_CONTENT',\n",
       "  'MESSAGING',\n",
       "  'MODERATE',\n",
       "  'MANAGE']}"
      ]
     },
     "execution_count": 6,
     "metadata": {},
     "output_type": "execute_result"
    }
   ],
   "source": [
    "# Construct the URL to get the list of pages\n",
    "url = f'https://graph.facebook.com/v10.0/me/accounts?access_token={access_token}'\n",
    "\n",
    "# Make the request\n",
    "response = requests.get(url)\n",
    "data = response.json()['data']\n",
    "filtered_data = [item for item in data if item['name'] == 'Netflix otp'][0]\n",
    "page_access_token = filtered_data['access_token']\n",
    "page_id = filtered_data['id']\n",
    "filtered_data"
   ]
  },
  {
   "cell_type": "markdown",
   "id": "48e97875-a5b3-4648-8463-2cab1f7ca68a",
   "metadata": {},
   "source": [
    "## 3. Get all message"
   ]
  },
  {
   "cell_type": "code",
   "execution_count": 8,
   "id": "5f1bdc74-9d1b-423e-a0f9-e49684169b42",
   "metadata": {
    "tags": []
   },
   "outputs": [],
   "source": [
    "# def get_messages(page_id, access_token):\n",
    "#     url = f'https://graph.facebook.com/v13.0/{page_id}/conversations'\n",
    "#     params = {\n",
    "#         'access_token': access_token\n",
    "#     }\n",
    "#     response = requests.get(url, params=params)\n",
    "\n",
    "# def get_conversation_threads(conversation_id, access_token):\n",
    "#     url = f'https://graph.facebook.com/v20.0/{conversation_id}'\n",
    "#     params = {\n",
    "#         'fields': 'participants, messages',  # Request specific fields\n",
    "#         'access_token': access_token\n",
    "#     }\n",
    "#     response = requests.get(url, params=params)\n",
    "    \n",
    "# def get_message_details(message_id, access_token):\n",
    "#     url = f'https://graph.facebook.com/v13.0/{message_id}'\n",
    "#     params = {\n",
    "#         'fields': 'message,from,to,created_time',  # Request specific fields\n",
    "#         'access_token': access_token\n",
    "#     }\n",
    "#     response = requests.get(url, params=params)"
   ]
  },
  {
   "cell_type": "code",
   "execution_count": 7,
   "id": "350769d3-75d2-47e9-82e1-750c3072d9e6",
   "metadata": {
    "tags": []
   },
   "outputs": [
    {
     "data": {
      "text/plain": [
       "[{'message': 'abc',\n",
       "  'sender_id': '8176163065778443',\n",
       "  'sender_name': 'Bình Như Gia Lê',\n",
       "  'recipient': 'Netflix otp',\n",
       "  'recipient_id': '345243362013764',\n",
       "  'created_time': '2024-10-05T11:45:26+0000'},\n",
       " {'message': 'xy',\n",
       "  'sender_id': '8176163065778443',\n",
       "  'sender_name': 'Bình Như Gia Lê',\n",
       "  'recipient': 'Netflix otp',\n",
       "  'recipient_id': '345243362013764',\n",
       "  'created_time': '2024-09-30T16:29:19+0000'},\n",
       " {'message': 'sup',\n",
       "  'sender_id': '8176163065778443',\n",
       "  'sender_name': 'Bình Như Gia Lê',\n",
       "  'recipient': 'Netflix otp',\n",
       "  'recipient_id': '345243362013764',\n",
       "  'created_time': '2024-09-30T02:41:00+0000'},\n",
       " {'message': 'abc',\n",
       "  'sender_id': '8176163065778443',\n",
       "  'sender_name': 'Bình Như Gia Lê',\n",
       "  'recipient': 'Netflix otp',\n",
       "  'recipient_id': '345243362013764',\n",
       "  'created_time': '2024-09-30T02:19:59+0000'},\n",
       " {'message': '789',\n",
       "  'sender_id': '8176163065778443',\n",
       "  'sender_name': 'Bình Như Gia Lê',\n",
       "  'recipient': 'Netflix otp',\n",
       "  'recipient_id': '345243362013764',\n",
       "  'created_time': '2024-09-29T17:03:57+0000'}]"
      ]
     },
     "execution_count": 7,
     "metadata": {},
     "output_type": "execute_result"
    }
   ],
   "source": [
    "import requests\n",
    "\n",
    "def get_all_messages(page_id, access_token):\n",
    "    def get_messages(page_id, access_token):\n",
    "        url = f'https://graph.facebook.com/v13.0/{page_id}/conversations'\n",
    "        params = {\n",
    "            'access_token': access_token\n",
    "        }\n",
    "        response = requests.get(url, params=params)\n",
    "        return response.json() if response.status_code == 200 else response.json()\n",
    "\n",
    "    def get_conversation_threads(conversation_id, access_token):\n",
    "        url = f'https://graph.facebook.com/v20.0/{conversation_id}'\n",
    "        params = {\n",
    "            'fields': 'participants,messages{message,from,to,created_time}',  # Request specific fields\n",
    "            'access_token': access_token\n",
    "        }\n",
    "        response = requests.get(url, params=params)\n",
    "        return response.json() if response.status_code == 200 else response.json()\n",
    "\n",
    "    # Fetch conversations\n",
    "    conversations = get_messages(page_id, access_token)\n",
    "    all_messages = []\n",
    "\n",
    "    # Process each conversation\n",
    "    for conversation in conversations.get('data', []):\n",
    "        conversation_id = conversation['id']\n",
    "        threads = get_conversation_threads(conversation_id, access_token)\n",
    "        \n",
    "        # Extract participants\n",
    "        participants = {p['id']: p['name'] for p in threads.get('participants', {}).get('data', [])}\n",
    "\n",
    "        # Extract messages\n",
    "        messages = threads.get('messages', {}).get('data', [])\n",
    "        for message in messages:\n",
    "            message_content = message.get('message', '')\n",
    "            created_time = message.get('created_time', '')\n",
    "            from_user_id = message.get('from', {}).get('id', '')\n",
    "            from_user_name = participants.get(from_user_id, '')\n",
    "\n",
    "            # Ensure from_user_id and from_user_name are defined\n",
    "            if from_user_id and from_user_name:\n",
    "                # Find 'to' details\n",
    "                to_users = threads.get('participants', {}).get('data', [])\n",
    "                for recipient in to_users:\n",
    "                    if recipient['id'] != from_user_id:  # Exclude sender\n",
    "                        all_messages.append({\n",
    "                            'message': message_content,\n",
    "                            'sender_id': from_user_id,\n",
    "                            'sender_name': from_user_name,\n",
    "                            'recipient': recipient['name'],\n",
    "                            'recipient_id': recipient['id'],\n",
    "                            'created_time': created_time\n",
    "                        })\n",
    "    \n",
    "    return all_messages\n",
    "\n",
    "# Example usage\n",
    "messages = get_all_messages(page_id, page_access_token)\n",
    "messages[0:5]"
   ]
  },
  {
   "cell_type": "markdown",
   "id": "def42155-f4cd-4451-a060-09093d7fb94b",
   "metadata": {},
   "source": [
    "## 4. send message"
   ]
  },
  {
   "cell_type": "code",
   "execution_count": 19,
   "id": "b3def485-a330-4a0a-a43e-c206b3bebfa5",
   "metadata": {
    "tags": []
   },
   "outputs": [],
   "source": [
    "def send_message(page_access_token, recipient_id, message_text):\n",
    "    url = 'https://graph.facebook.com/v13.0/me/messages'\n",
    "    params = {\n",
    "        'access_token': page_access_token\n",
    "    }\n",
    "    payload = {\n",
    "        'recipient': {\n",
    "            'id': recipient_id\n",
    "        },\n",
    "        'message': {\n",
    "            'text': message_text\n",
    "        }\n",
    "    }\n",
    "    response = requests.post(url, params=params, json=payload)\n",
    "    \n",
    "    if response.status_code == 200:\n",
    "        return response.json()\n",
    "    else:\n",
    "        return response.json()\n",
    "\n",
    "# Example usage\n",
    "# result = send_message(page_access_token, recipient_id, message_text)\n",
    "# print(result)"
   ]
  },
  {
   "cell_type": "markdown",
   "id": "0a8f477c-dbd5-4d0d-a7c7-3feedca02967",
   "metadata": {},
   "source": [
    "## 5. run while loop to check for msg"
   ]
  },
  {
   "cell_type": "code",
   "execution_count": 20,
   "id": "17436afc-fa08-411e-87d6-e8f90341654c",
   "metadata": {
    "tags": []
   },
   "outputs": [
    {
     "name": "stdout",
     "output_type": "stream",
     "text": [
      "{'message': 'hello', 'sender_id': '8176163065778443', 'sender_name': 'Bình Như Gia Lê', 'recipient': 'Netflix otp', 'recipient_id': '345243362013764', 'created_time': '2024-07-28T10:21:36+0000'}\n",
      "{'message': 'binh dep trai', 'sender_id': '8176163065778443', 'sender_name': 'Bình Như Gia Lê', 'recipient': 'Netflix otp', 'recipient_id': '345243362013764', 'created_time': '2024-07-28T10:21:59+0000'}\n"
     ]
    },
    {
     "ename": "KeyboardInterrupt",
     "evalue": "",
     "output_type": "error",
     "traceback": [
      "\u001b[1;31m---------------------------------------------------------------------------\u001b[0m",
      "\u001b[1;31mKeyboardInterrupt\u001b[0m                         Traceback (most recent call last)",
      "Cell \u001b[1;32mIn[20], line 37\u001b[0m\n\u001b[0;32m     34\u001b[0m previous_messages \u001b[38;5;241m=\u001b[39m current_messages\n\u001b[0;32m     36\u001b[0m \u001b[38;5;66;03m# Wait for 2 seconds before checking again\u001b[39;00m\n\u001b[1;32m---> 37\u001b[0m time\u001b[38;5;241m.\u001b[39msleep(\u001b[38;5;241m0.5\u001b[39m)\n",
      "\u001b[1;31mKeyboardInterrupt\u001b[0m: "
     ]
    }
   ],
   "source": [
    "import time\n",
    "import random\n",
    "\n",
    "# Define the sender ID to exclude\n",
    "excluded_sender_id = '345243362013764'\n",
    "# start with 8\n",
    "recipient_id = '8176163065778443'\n",
    "# message_text = 'Wat suppp!'\n",
    "message_lst = [\n",
    "    'hello', 'hi', 'xin chao'\n",
    "]\n",
    "\n",
    "# Initial fetch of messages\n",
    "current_messages = get_all_messages(page_id, page_access_token)\n",
    "previous_messages = current_messages\n",
    "\n",
    "while True:\n",
    "    # Fetch current messages\n",
    "    current_messages = get_all_messages(page_id, page_access_token)\n",
    "    \n",
    "    # Find new messages excluding those from the specific sender\n",
    "    new_messages = [msg for msg in current_messages if msg not in previous_messages and msg['sender_id'] != excluded_sender_id]\n",
    "    \n",
    "    if new_messages:\n",
    "        # Choose a random message from the list\n",
    "        random_message = random.choice(message_lst)\n",
    "        \n",
    "        # Send the random message\n",
    "        send_message(page_access_token, recipient_id, random_message)\n",
    "        \n",
    "        print(new_messages[0])\n",
    "    \n",
    "    # Update the list of previously fetched messages\n",
    "    previous_messages = current_messages\n",
    "    \n",
    "    # Wait for 2 seconds before checking again\n",
    "    time.sleep(0.5)"
   ]
  },
  {
   "cell_type": "markdown",
   "id": "c0206aaa-564d-45c9-9ca7-1348929f88e1",
   "metadata": {},
   "source": [
    "## 6. Trigger a gpt api call when the message_log file is updated"
   ]
  },
  {
   "cell_type": "markdown",
   "id": "4925f411",
   "metadata": {},
   "source": []
  }
 ],
 "metadata": {
  "kernelspec": {
   "display_name": "Python 3 (ipykernel)",
   "language": "python",
   "name": "python3"
  },
  "language_info": {
   "codemirror_mode": {
    "name": "ipython",
    "version": 3
   },
   "file_extension": ".py",
   "mimetype": "text/x-python",
   "name": "python",
   "nbconvert_exporter": "python",
   "pygments_lexer": "ipython3",
   "version": "3.11.5"
  }
 },
 "nbformat": 4,
 "nbformat_minor": 5
}
