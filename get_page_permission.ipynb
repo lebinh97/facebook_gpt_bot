{
 "cells": [
  {
   "cell_type": "code",
   "execution_count": 3,
   "metadata": {},
   "outputs": [
    {
     "name": "stdout",
     "output_type": "stream",
     "text": [
      "{'success': True}\n"
     ]
    }
   ],
   "source": [
    "import requests\n",
    "\n",
    "# Thông tin cần thiết\n",
    "page_access_token = 'EAAHvZCV461MgBO47PZBtqVni59mj0Voog0QiPqCeZCPTFQfWIKDMAmkWBib31qen8kLRUbsxWtb1hKB5BxH9wc3xsuwNZB4oiHrCUZA6ZBZAEA3BaW4kWkKteMEhdTN42MkWYN29sQWRS8WCBtPhiR3EpHnsMdwUSouirDmUIfBFFlVP2RVZB2Q25aLR9nfxchRPyQZDZD'  # Token truy cập trang từ Messenger API\n",
    "verify_token = 'abc'  # Token xác minh của bạn\n",
    "webhook_url = 'https://df36-2402-800-63b9-86d9-a4ce-63f5-48fb-1934.ngrok-free.app/webhook'  # URL webhook của bạn\n",
    "\n",
    "# URL của Facebook Graph API để đăng ký webhook\n",
    "subscription_url = f'https://graph.facebook.com/v12.0/me/subscribed_apps?access_token={page_access_token}'\n",
    "\n",
    "# Dữ liệu yêu cầu\n",
    "data = {\n",
    "    'object': 'page',\n",
    "    'callback_url': webhook_url,\n",
    "    'verify_token': verify_token,\n",
    "    'subscribed_fields': 'messages, messaging_postbacks, message_reads, message_deliveries'\n",
    "}\n",
    "\n",
    "# Thực hiện yêu cầu POST để đăng ký webhook\n",
    "response = requests.post(subscription_url, json=data)\n",
    "\n",
    "# Kiểm tra kết quả\n",
    "if response.status_code == 200:\n",
    "    print(response.json())  # Nên trả về {\"success\": \"true\"}\n",
    "else:\n",
    "    print(f\"Error: {response.status_code}\")\n",
    "    print(response.json())\n"
   ]
  },
  {
   "cell_type": "code",
   "execution_count": null,
   "metadata": {},
   "outputs": [],
   "source": []
  }
 ],
 "metadata": {
  "kernelspec": {
   "display_name": "Python 3 (ipykernel)",
   "language": "python",
   "name": "python3"
  },
  "language_info": {
   "codemirror_mode": {
    "name": "ipython",
    "version": 3
   },
   "file_extension": ".py",
   "mimetype": "text/x-python",
   "name": "python",
   "nbconvert_exporter": "python",
   "pygments_lexer": "ipython3",
   "version": "3.11.5"
  }
 },
 "nbformat": 4,
 "nbformat_minor": 4
}
